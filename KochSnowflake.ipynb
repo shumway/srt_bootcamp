{
 "cells": [
  {
   "cell_type": "code",
   "execution_count": 1,
   "metadata": {
    "collapsed": true
   },
   "outputs": [],
   "source": [
    "from matplotlib import pyplot as plt\n",
    "from matplotlib import collections as mc\n",
    "import math\n",
    "%matplotlib inline"
   ]
  },
  {
   "cell_type": "markdown",
   "metadata": {},
   "source": [
    "#Koch Snowflake Introduction\n",
    "A Koch Snowflake is a fractal that has been known for over 100 years \n",
    "(see the [Wikipedia article](https://en.wikipedia.org/wiki/Koch_snowflake Wikipedia article)\n",
    "for history).\n",
    "\n",
    "The shaped is formed by starting from a triangle. For each line segment, remove the middle third\n",
    "and replace it by two equal pieces that form a triangle.\n",
    "\n",
    "To program this in python, we simply need a function that turns a line segment into four shorter\n",
    "segments. We'll use a pair of tuples to represent a line segment: $((x_a,y_a), (x_b,y_b))$.\n",
    "The current shape will be a list of segments."
   ]
  },
  {
   "cell_type": "markdown",
   "metadata": {},
   "source": [
    "All we need is a function that takes one line segment and expands it into four smaller segments.\n",
    "We'll call the original segment ae, and create new points b, c, d, so that the four segemnts\n",
    "are ab, bc, cd, and de. First, let's work this out by hand, then we'll make the function."
   ]
  },
  {
   "cell_type": "code",
   "execution_count": 2,
   "metadata": {
    "collapsed": true
   },
   "outputs": [],
   "source": [
    "a = (0.0, 0.0)\n",
    "e = (1.0, 0.0)\n",
    "ae = (a,e)"
   ]
  },
  {
   "cell_type": "markdown",
   "metadata": {},
   "source": [
    "It's helpful to be able to make a plot of a list of segments."
   ]
  },
  {
   "cell_type": "code",
   "execution_count": 3,
   "metadata": {
    "collapsed": false
   },
   "outputs": [],
   "source": [
    "def plot_segments(segments):\n",
    "    fig, ax = plt.subplots()\n",
    "    lines = mc.LineCollection(segments)\n",
    "    ax.add_collection(lines)\n",
    "    ax.margins(0.2)\n",
    "    ax.set_aspect('equal')\n",
    "    ax.autoscale()\n",
    "    return ax"
   ]
  },
  {
   "cell_type": "code",
   "execution_count": 4,
   "metadata": {
    "collapsed": false
   },
   "outputs": [
    {
     "data": {
      "text/plain": [
       "<matplotlib.axes._subplots.AxesSubplot at 0x7f60e42d7860>"
      ]
     },
     "execution_count": 4,
     "metadata": {},
     "output_type": "execute_result"
    },
    {
     "data": {
      "image/png": "[encoded data removed]",
      "text/plain": [
       "<matplotlib.figure.Figure at 0x7f60c7d5fd68>"
      ]
     },
     "metadata": {},
     "output_type": "display_data"
    }
   ],
   "source": [
    "plot_segments([ae])"
   ]
  },
  {
   "cell_type": "markdown",
   "metadata": {},
   "source": [
    "Next we figure out formulas for points b, c, and d.\n",
    "Points b and d are easy, because they are 1/3 and 2/3 of the way along the segment ae."
   ]
  },
  {
   "cell_type": "code",
   "execution_count": 5,
   "metadata": {
    "collapsed": false
   },
   "outputs": [],
   "source": [
    "b = ((2*a[0]+e[0]/3, (2*a[1]+e[1])/3))\n",
    "d = ((a[0]+2*e[0]/3, (a[1]+2*e[1])/3))"
   ]
  },
  {
   "cell_type": "markdown",
   "metadata": {},
   "source": [
    "Point c is trickier, because it doesn't lie directly on the line segment.\n",
    "It is the vertex of an equilateral triangle with side length |ae|/3.\n",
    "To get to point c, find the midpoint of ae, then go out perpendicularly a distance $\\sqrt{3}/6$.\n",
    "To move perpendicularly, we use that trick that the point (-y, x) is rotated 90° CCW from (x, y)."
   ]
  },
  {
   "cell_type": "code",
   "execution_count": 6,
   "metadata": {
    "collapsed": false
   },
   "outputs": [],
   "source": [
    "k = math.sqrt(3)/6\n",
    "c = ((a[0]+e[0])/2 - k * (e[1]-a[1]), (a[1]+e[1])/3 + k *(e[0]-a[0]))"
   ]
  },
  {
   "cell_type": "code",
   "execution_count": 7,
   "metadata": {
    "collapsed": false
   },
   "outputs": [
    {
     "data": {
      "text/plain": [
       "<matplotlib.axes._subplots.AxesSubplot at 0x7f60c7aa0358>"
      ]
     },
     "execution_count": 7,
     "metadata": {},
     "output_type": "execute_result"
    },
    {
     "data": {
      "text/plain": [
       "<matplotlib.figure.Figure at 0x7f60c7ab05c0>"
      ]
     },
     "metadata": {},
     "output_type": "display_data"
    },
    {
     "data": {
      "image/png": "[encoded data removed]",
      "text/plain": [
       "<matplotlib.figure.Figure at 0x7f60c7ab07b8>"
      ]
     },
     "metadata": {},
     "output_type": "display_data"
    }
   ],
   "source": [
    "plt.gcf().clear()\n",
    "plot_segments([(a,b), (b,c), (c,d), (d,e)])\n"
   ]
  },
  {
   "cell_type": "markdown",
   "metadata": {},
   "source": [
    "Now we make this into a function."
   ]
  },
  {
   "cell_type": "code",
   "execution_count": 8,
   "metadata": {
    "collapsed": false
   },
   "outputs": [],
   "source": [
    "def f(seg):\n",
    "    a = seg[0]\n",
    "    e = seg[1]\n",
    "    b = ((2*a[0]+e[0])/3, (2*a[1]+e[1])/3)\n",
    "    d = ((a[0]+2*e[0])/3, (a[1]+2*e[1])/3)\n",
    "    k = math.sqrt(3)/6\n",
    "    c = ((a[0]+e[0])/2 - k * (e[1]-a[1]), (a[1]+e[1])/2 + k *(e[0]-a[0]))\n",
    "    return [(a,b), (b,c), (c,d), (d,e)]"
   ]
  },
  {
   "cell_type": "markdown",
   "metadata": {},
   "source": [
    "We'll test this function on some different line segments."
   ]
  },
  {
   "cell_type": "code",
   "execution_count": 9,
   "metadata": {
    "collapsed": false
   },
   "outputs": [
    {
     "data": {
      "text/plain": [
       "<matplotlib.axes._subplots.AxesSubplot at 0x7f60c799b5c0>"
      ]
     },
     "execution_count": 9,
     "metadata": {},
     "output_type": "execute_result"
    },
    {
     "data": {
      "image/png": "[encoded data removed]",
      "text/plain": [
       "<matplotlib.figure.Figure at 0x7f60c7ab33c8>"
      ]
     },
     "metadata": {},
     "output_type": "display_data"
    }
   ],
   "source": [
    "plot_segments(f(((0,0),(1,0))))"
   ]
  },
  {
   "cell_type": "code",
   "execution_count": 10,
   "metadata": {
    "collapsed": false,
    "scrolled": true
   },
   "outputs": [
    {
     "data": {
      "text/plain": [
       "<matplotlib.axes._subplots.AxesSubplot at 0x7f60c7906828>"
      ]
     },
     "execution_count": 10,
     "metadata": {},
     "output_type": "execute_result"
    },
    {
     "data": {
      "image/png": "[encoded data removed]",
      "text/plain": [
       "<matplotlib.figure.Figure at 0x7f60c7916b38>"
      ]
     },
     "metadata": {},
     "output_type": "display_data"
    }
   ],
   "source": [
    "plot_segments(f(((0,0),(0,1))))"
   ]
  },
  {
   "cell_type": "code",
   "execution_count": 11,
   "metadata": {
    "collapsed": false
   },
   "outputs": [
    {
     "data": {
      "text/plain": [
       "<matplotlib.axes._subplots.AxesSubplot at 0x7f60c792f1d0>"
      ]
     },
     "execution_count": 11,
     "metadata": {},
     "output_type": "execute_result"
    },
    {
     "data": {
      "image/png": "[encoded data removed]",
      "text/plain": [
       "<matplotlib.figure.Figure at 0x7f60c78e7908>"
      ]
     },
     "metadata": {},
     "output_type": "display_data"
    }
   ],
   "source": [
    "plot_segments(f(((0.3333333333333333, 0.0), (0.5, 0.28867513459481287))))"
   ]
  },
  {
   "cell_type": "markdown",
   "metadata": {},
   "source": [
    "Finally, we make a function to apply f to every segment in a list.\n",
    "We use some elegant notation called a “list comprehension“ here."
   ]
  },
  {
   "cell_type": "code",
   "execution_count": 12,
   "metadata": {
    "collapsed": false
   },
   "outputs": [],
   "source": [
    "def recurse(segments):\n",
    "    return [x for s in segments for x in f(s)]"
   ]
  },
  {
   "cell_type": "code",
   "execution_count": 13,
   "metadata": {
    "collapsed": false
   },
   "outputs": [
    {
     "data": {
      "text/plain": [
       "[((0.0, 0.0), (0.3333333333333333, 0.0)),\n",
       " ((0.3333333333333333, 0.0), (0.5, 0.28867513459481287)),\n",
       " ((0.5, 0.28867513459481287), (0.6666666666666666, 0.0)),\n",
       " ((0.6666666666666666, 0.0), (1.0, 0.0))]"
      ]
     },
     "execution_count": 13,
     "metadata": {},
     "output_type": "execute_result"
    }
   ],
   "source": [
    "recurse([(a,e)])"
   ]
  },
  {
   "cell_type": "code",
   "execution_count": 14,
   "metadata": {
    "collapsed": false
   },
   "outputs": [
    {
     "data": {
      "text/plain": [
       "<matplotlib.axes._subplots.AxesSubplot at 0x7f60c788ec88>"
      ]
     },
     "execution_count": 14,
     "metadata": {},
     "output_type": "execute_result"
    },
    {
     "data": {
      "image/png": "[encoded data removed]",
      "text/plain": [
       "<matplotlib.figure.Figure at 0x7f60c784ea58>"
      ]
     },
     "metadata": {},
     "output_type": "display_data"
    }
   ],
   "source": [
    "plot_segments(recurse([(a,e)]))"
   ]
  },
  {
   "cell_type": "code",
   "execution_count": 15,
   "metadata": {
    "collapsed": false
   },
   "outputs": [
    {
     "data": {
      "text/plain": [
       "<matplotlib.axes._subplots.AxesSubplot at 0x7f60c7873048>"
      ]
     },
     "execution_count": 15,
     "metadata": {},
     "output_type": "execute_result"
    },
    {
     "data": {
      "image/png": "[encoded data removed]",
      "text/plain": [
       "<matplotlib.figure.Figure at 0x7f60c78326a0>"
      ]
     },
     "metadata": {},
     "output_type": "display_data"
    }
   ],
   "source": [
    "segements = [(a,e)]\n",
    "for i in range(2):\n",
    "    segements = recurse(segements)\n",
    "plot_segments(segements)"
   ]
  },
  {
   "cell_type": "markdown",
   "metadata": {},
   "source": [
    "Finally, we'll make the full snowflake by starting from an equilateral triangle."
   ]
  },
  {
   "cell_type": "code",
   "execution_count": 16,
   "metadata": {
    "collapsed": false
   },
   "outputs": [
    {
     "data": {
      "text/plain": [
       "<matplotlib.axes._subplots.AxesSubplot at 0x7f60c77d8ef0>"
      ]
     },
     "execution_count": 16,
     "metadata": {},
     "output_type": "execute_result"
    },
    {
     "data": {
      "image/png": "[encoded data removed]",
      "text/plain": [
       "<matplotlib.figure.Figure at 0x7f60c77e5e48>"
      ]
     },
     "metadata": {},
     "output_type": "display_data"
    }
   ],
   "source": [
    "p = -math.cos(math.pi/6), math.sin(math.pi/6)\n",
    "q = math.cos(math.pi/6), math.sin(5*math.pi/6)\n",
    "r = 0.0, -1.0\n",
    "segments = [(p,q), (q,r), (r,p)]\n",
    "for i in range(4):\n",
    "    segments = recurse(segments)\n",
    "plot_segments(segments)"
   ]
  },
  {
   "cell_type": "markdown",
   "metadata": {},
   "source": [
    "Note that the length of the line grow by 4/3 each iteration. \n",
    "The original triange has a perimeter of 3, so after $n$ iterations the curve has a length $3(4/3)^n$.\n",
    "We can evaulate this for several values of n."
   ]
  },
  {
   "cell_type": "code",
   "execution_count": 17,
   "metadata": {
    "collapsed": false
   },
   "outputs": [
    {
     "data": {
      "text/plain": [
       "[(0, 3.0),\n",
       " (1, 4.0),\n",
       " (2, 5.333333333333333),\n",
       " (3, 7.111111111111109),\n",
       " (4, 9.48148148148148),\n",
       " (5, 12.641975308641971),\n",
       " (6, 16.855967078189295),\n",
       " (7, 22.47462277091906),\n",
       " (8, 29.96616369455874),\n",
       " (9, 39.95488492607832),\n",
       " (10, 53.273179901437764)]"
      ]
     },
     "execution_count": 17,
     "metadata": {},
     "output_type": "execute_result"
    }
   ],
   "source": [
    "[(n, 3*(4/3)**n) for n in range(11)]"
   ]
  },
  {
   "cell_type": "markdown",
   "metadata": {},
   "source": [
    "Note that the true fractal curve ($n\\rightarrow\\infty$) has an infinite length!"
   ]
  }
 ],
 "metadata": {
  "kernelspec": {
   "display_name": "Python 3",
   "language": "python",
   "name": "python3"
  },
  "language_info": {
   "codemirror_mode": {
    "name": "ipython",
    "version": 3
   },
   "file_extension": ".py",
   "mimetype": "text/x-python",
   "name": "python",
   "nbconvert_exporter": "python",
   "pygments_lexer": "ipython3",
   "version": "3.4.3"
  }
 },
 "nbformat": 4,
 "nbformat_minor": 0
}
