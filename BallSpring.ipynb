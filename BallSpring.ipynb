{
 "cells": [
  {
   "cell_type": "markdown",
   "metadata": {},
   "source": [
    "# Normal modes of ball-and-spring structures\n",
    "\n",
    "We extend the normal mode calculations from two object to an arbitrary set of objects.\n",
    "\n",
    "Outline:\n",
    "\n",
    "1. Create a list of point particles, all equal mass. This should be a list of equilibirium (x,y) positions.\n",
    "2. Create a list of connections, all with the same spring constant. This should be a list of index pairs (i,j).\n",
    "3. Construct a potential energy function in the displacment coordinates.\n",
    "4. Construct the dynamical matrix.\n",
    "5. Get eigenvalues and frequencies.\n",
    "6. Construct a function that plots the eigenmode by index and the displacment variable t.\n",
    "7. Make the plot interactive.\n"
   ]
  },
  {
   "cell_type": "code",
   "execution_count": 1,
   "metadata": {
    "collapsed": false
   },
   "outputs": [
    {
     "name": "stderr",
     "output_type": "stream",
     "text": [
      ":0: FutureWarning: IPython widgets are experimental and may change in the future.\n"
     ]
    }
   ],
   "source": [
    "import numpy as np\n",
    "import math\n",
    "import matplotlib.pyplot as plt\n",
    "%matplotlib inline\n",
    "from IPython.html import widgets"
   ]
  },
  {
   "cell_type": "code",
   "execution_count": 2,
   "metadata": {
    "collapsed": true
   },
   "outputs": [],
   "source": [
    "# A triangle\n",
    "points = [(-1,-1), (1,-1), (0,1)]\n",
    "connections = [(0,1), (1,2), (2,0)]\n",
    "N = len(points)"
   ]
  },
  {
   "cell_type": "code",
   "execution_count": 3,
   "metadata": {
    "collapsed": false
   },
   "outputs": [],
   "source": [
    "def V(offset):\n",
    "    # Offset is a vector length 2N, with x offsets followed\n",
    "    # by y offsets\n",
    "    V = 0\n",
    "    for c in connections:\n",
    "        p1 = points[c[0]]\n",
    "        p2 = points[c[1]]\n",
    "        x1, y1 = p1[0], p1[1]\n",
    "        x2, y2 = p2[0], p2[1]\n",
    "        dist_eq = math.sqrt((x1-x2)**2 + (y1-y2)**2)\n",
    "        dx1 = offset[c[0]]\n",
    "        dy1 = offset[c[0] + N]\n",
    "        dx2 = offset[c[1]]\n",
    "        dy2 = offset[c[1] + N]\n",
    "        dist_new = math.sqrt(\n",
    "            ((x1 + dx1) - (x2 + dx2))**2 +\n",
    "            ((y1 + dy1) - (y2 + dy2))**2\n",
    "        )\n",
    "        V += 0.5 * (dist_new - dist_eq)**2\n",
    "    return V"
   ]
  },
  {
   "cell_type": "code",
   "execution_count": 4,
   "metadata": {
    "collapsed": false
   },
   "outputs": [],
   "source": [
    "def ComputeDynamicalMatrix(points, connections):\n",
    "    # This is a 2N by 2N matrix with x, followed by y\n",
    "    mat = np.zeros((2*N, 2*N))\n",
    "    delta = 1e-6\n",
    "    for i in range(2*N):\n",
    "        for j in range(2*N):\n",
    "            if (i == j):\n",
    "                off_f = np.zeros(2*N); off_f[i] = delta\n",
    "                off_b = np.zeros(2*N); off_b[i] = -delta\n",
    "                zeros = np.zeros(2*N)\n",
    "                mat[i,j] = (V(off_f) - 2*V(zeros) + V(off_b))/delta**2\n",
    "            else:\n",
    "                off_ifjf = np.zeros(2*N); off_ifjf[i] = delta; off_ifjf[j] = delta\n",
    "                off_ifjb = np.zeros(2*N); off_ifjb[i] = delta; off_ifjb[j] = -delta\n",
    "                off_ibjf = np.zeros(2*N); off_ibjf[i] = -delta; off_ibjf[j] = delta;\n",
    "                off_ibjb = np.zeros(2*N); off_ibjb[i] = -delta; off_ibjb[j] = -delta;\n",
    "                mat[i,j] = (V(off_ifjf) - V(off_ifjb) -V(off_ibjf) + V(off_ibjb))/(2*delta)**2\n",
    "    return mat"
   ]
  },
  {
   "cell_type": "code",
   "execution_count": 5,
   "metadata": {
    "collapsed": false
   },
   "outputs": [
    {
     "data": {
      "text/plain": [
       "array([  3.00000000e+00,   1.60000000e+00,   1.40000000e+00,\n",
       "         4.93773589e-10,   1.60749084e-10,   2.64670809e-10])"
      ]
     },
     "execution_count": 5,
     "metadata": {},
     "output_type": "execute_result"
    }
   ],
   "source": [
    "mat = ComputeDynamicalMatrix(points, connections)\n",
    "freq, vecs = np.linalg.eig(mat)\n",
    "vecs = vecs.transpose()\n",
    "freq"
   ]
  },
  {
   "cell_type": "code",
   "execution_count": 6,
   "metadata": {
    "collapsed": true
   },
   "outputs": [],
   "source": [
    "def make_plot(t, n):\n",
    "    x = np.array([p[0] for p in points])\n",
    "    y = np.array([p[1] for p in points])\n",
    "    tx = x + 0.3 * t * vecs[n][:N]\n",
    "    ty = y + 0.3 * t * vecs[n][N:]\n",
    "    cx, cy = [], []\n",
    "    for c in connections:\n",
    "        x1, y1 = tx[c[0]], ty[c[0]]\n",
    "        x2, y2 = tx[c[1]], ty[c[1]]\n",
    "        cx.append(x1)\n",
    "        cy.append(y1)\n",
    "        cx.append(x2)\n",
    "        cy.append(y2)\n",
    "        cx.append(None)\n",
    "        cy.append(None)\n",
    "    fig, ax = plt.subplots()\n",
    "    plt.plot(x, y, 'r*')\n",
    "    plt.plot(tx, ty, 'bo') #plot the moved points\n",
    "    plt.plot(cx, cy, 'k--') #plot the streched springs\n",
    "    plt.xlim(np.amin(x)-0.5, np.amax(x)+0.5)\n",
    "    plt.ylim(np.amin(y)-0.5, np.amax(y)+0.5)\n",
    "    plt.title(\"Mode %i with \" % n +\n",
    "        r\"$\\omega\" + \"_%i = %.3f\" % (n, freq[n]) + \"$\")"
   ]
  },
  {
   "cell_type": "code",
   "execution_count": 7,
   "metadata": {
    "collapsed": false
   },
   "outputs": [
    {
     "data": {
      "text/plain": [
       "<function __main__.make_plot>"
      ]
     },
     "execution_count": 7,
     "metadata": {},
     "output_type": "execute_result"
    },
    {
     "data": {
      "image/png": "[encoded data removed]",
      "text/plain": [
       "<matplotlib.figure.Figure at 0x7f6ae00ee668>"
      ]
     },
     "metadata": {},
     "output_type": "display_data"
    }
   ],
   "source": [
    "widgets.interact(make_plot, t=(-1.0, 1.0, 0.1), n=(0, 2*N - 1, 1))"
   ]
  },
  {
   "cell_type": "markdown",
   "metadata": {},
   "source": [
    "# Examples"
   ]
  },
  {
   "cell_type": "code",
   "execution_count": 8,
   "metadata": {
    "collapsed": true
   },
   "outputs": [],
   "source": [
    "# A square with cross-reinforcements\n",
    "points = [(-1,-1), (1,-1), (1,1), (-1,1)]\n",
    "connections = [(0,1), (1,2), (2,3), (3,0), (0,2), (1,3)]\n",
    "N = len(points)"
   ]
  },
  {
   "cell_type": "code",
   "execution_count": 9,
   "metadata": {
    "collapsed": false
   },
   "outputs": [
    {
     "data": {
      "text/plain": [
       "array([  4.00000000e+00,   4.90490403e-10,   4.89865700e-10,\n",
       "         4.89864996e-10,   2.00000000e+00,   2.00000000e+00,\n",
       "         2.00000000e+00,   2.00000000e+00])"
      ]
     },
     "execution_count": 9,
     "metadata": {},
     "output_type": "execute_result"
    }
   ],
   "source": [
    "mat = ComputeDynamicalMatrix(points, connections)\n",
    "freq, vecs = np.linalg.eig(mat)\n",
    "vecs = vecs.transpose()\n",
    "freq"
   ]
  },
  {
   "cell_type": "code",
   "execution_count": 10,
   "metadata": {
    "collapsed": false
   },
   "outputs": [
    {
     "data": {
      "text/plain": [
       "<function __main__.make_plot>"
      ]
     },
     "execution_count": 10,
     "metadata": {},
     "output_type": "execute_result"
    },
    {
     "data": {
      "image/png": "[encoded data removed]",
      "text/plain": [
       "<matplotlib.figure.Figure at 0x7f6adb200dd8>"
      ]
     },
     "metadata": {},
     "output_type": "display_data"
    }
   ],
   "source": [
    "widgets.interact(make_plot, t=(-1.0, 1.0, 0.1), n=(0, 2*N - 1, 1))"
   ]
  },
  {
   "cell_type": "code",
   "execution_count": null,
   "metadata": {
    "collapsed": true
   },
   "outputs": [],
   "source": []
  },
  {
   "cell_type": "code",
   "execution_count": null,
   "metadata": {
    "collapsed": true
   },
   "outputs": [],
   "source": []
  }
 ],
 "metadata": {
  "kernelspec": {
   "display_name": "Python 3",
   "language": "python",
   "name": "python3"
  },
  "language_info": {
   "codemirror_mode": {
    "name": "ipython",
    "version": 3
   },
   "file_extension": ".py",
   "mimetype": "text/x-python",
   "name": "python",
   "nbconvert_exporter": "python",
   "pygments_lexer": "ipython3",
   "version": "3.4.3"
  }
 },
 "nbformat": 4,
 "nbformat_minor": 0
}
