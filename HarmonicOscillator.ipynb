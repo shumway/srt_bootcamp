{
 "cells": [
  {
   "cell_type": "markdown",
   "metadata": {},
   "source": [
    "# Introduction\n",
    "\n",
    "A mass on a spring experiences a force described by Hookes law.\n",
    "For a displacment $x$, the force is\n",
    "$$F=-kx,$$\n",
    "where $k$ is the spring constant with units of N/m.\n",
    "\n",
    "The equation of motion is\n",
    "$$ F = ma $$\n",
    "or \n",
    "$$ -k x = m a .$$\n",
    "\n",
    "Because acceleration is the second derivative of displacment, this is\n",
    "a differential equation,\n",
    "$$ \\frac{d^2}{dt^2} = -\\frac{k}{m} x.$$\n",
    "\n",
    "The solution to this equation is harmonic motion, for example\n",
    "$$ x(t) = A\\sin\\omega t,$$\n",
    "where $A$ is some amplitude and $\\omega = \\sqrt{k/m}$.\n",
    "This can be verified by plugging the solution into the differential equation.\n",
    "\n",
    "The angular frequency $\\omega$ is related to the frequency $f$ and the period $T$ by\n",
    "$$f = \\omega/2\\pi$$ and $$T=2\\pi/\\omega$$\n",
    "\n",
    "We can illustrate this rather trivial case with an interacive plot."
   ]
  },
  {
   "cell_type": "code",
   "execution_count": 1,
   "metadata": {
    "collapsed": false
   },
   "outputs": [
    {
     "data": {
      "text/plain": [
       "<function __main__.make_plot>"
      ]
     },
     "execution_count": 1,
     "metadata": {},
     "output_type": "execute_result"
    },
    {
     "data": {
      "image/png": "[encoded data removed]",
      "text/plain": [
       "<matplotlib.figure.Figure at 0x7fd049ba66a0>"
      ]
     },
     "metadata": {},
     "output_type": "display_data"
    }
   ],
   "source": [
    "import matplotlib.pyplot as plt\n",
    "%matplotlib inline\n",
    "from IPython.html import widgets\n",
    "\n",
    "def make_plot(t):\n",
    "    fig, ax = plt.subplots()\n",
    "    x,y = 0,0\n",
    "    plt.plot(x, y, 'k.')\n",
    "    plt.plot(x + 0.3 * t, y, 'bo')\n",
    "    plt.xlim(-1,1)\n",
    "    plt.ylim(-1,1)\n",
    "\n",
    "widgets.interact(make_plot, t=(-1,1,0.1))\n"
   ]
  },
  {
   "cell_type": "markdown",
   "metadata": {},
   "source": [
    "We want to generalize this result to several massess connected by several springs."
   ]
  },
  {
   "cell_type": "markdown",
   "metadata": {},
   "source": [
    "# The spring constant as a second derivative of potential\n",
    "\n",
    "The force related to poential energy by\n",
    "$$ F = -\\frac{d}{dx}V(x).$$\n",
    "Ths equation comes directly from the definition that work is force times distance.\n",
    "\n",
    "Integrating this, we find the potential energy of a mass on a spring,\n",
    "$$ V(x) = \\frac{1}{2}kx^2. $$\n",
    "In fact, the spring contant can be defined to be the second derivative of the potential,\n",
    "$$ k = \\frac{d^2}{dx^2} V(x).$$ We take the value of the second derivative at the minimum\n",
    "of the potential, which assumes that the oscillations are not very far from equilibrium.\n",
    "\n",
    "We see that Hooke's law is simply\n",
    "$$F = -\\frac{d^2 V(x)}{dx^2} x, $$\n",
    "where the second derivative is evaluated at the minimum of the potential.\n",
    "\n",
    "For a general potential, we can write the equation of motion as\n",
    "$$ \\frac{d^2}{dt^2} x = -\\frac{1}{m}\\frac{d^2V(x)}{dx^2} x.$$\n",
    "\n",
    "The expression on the right hand side is known as the dynamical matrix, \n",
    "though this is a trivial 1x1 matrix."
   ]
  },
  {
   "cell_type": "markdown",
   "metadata": {},
   "source": [
    "# Two masses connected by a spring\n",
    "\n",
    "Now the potential depends on two corrdinates,\n",
    "$$ V(x_1, x_2) = \\frac{1}{2} k (x_1 - x_2 - d),$$\n",
    "where $d$ is the equilibrium separation of the particles.\n",
    "\n",
    "Now the force on each particle depends on the positions of both of the particles,\n",
    "$$\n",
    "\\begin{pmatrix}F_1 \\\\ F_2\\end{pmatrix}\n",
    "= - \n",
    "\\begin{pmatrix}\n",
    "\\frac{\\partial^2 V}{\\partial x_1^2} &\n",
    "\\frac{\\partial^2 V}{\\partial x_1\\partial x_2} \\\\\n",
    "\\frac{\\partial^2 V}{\\partial x_1\\partial x_2} &\n",
    "\\frac{\\partial^2 V}{\\partial x_2^2} \\\\\n",
    "\\end{pmatrix}\n",
    "\\begin{pmatrix}x_1 \\\\ x_2\\end{pmatrix}\n",
    "$$\n",
    "\n",
    "For performing the derivatives, we find\n",
    "$$\n",
    "\\begin{pmatrix}F_1 \\\\ F_2\\end{pmatrix}\n",
    "= - \n",
    "\\begin{pmatrix}\n",
    "k & -k \\\\\n",
    "-k & k \\\\\n",
    "\\end{pmatrix}\n",
    "\\begin{pmatrix}x_1 \\\\ x_2\\end{pmatrix}\n",
    "$$\n",
    "\n",
    "The equations of motion are coupled,\n",
    "$$\n",
    "\\begin{pmatrix}\n",
    "\\frac{d^2x_1}{dt^2} \\\\\n",
    "\\frac{d^2x_2}{dt^2} \\\\\n",
    "\\end{pmatrix}\n",
    "= - \n",
    "\\begin{pmatrix}\n",
    "k/m & -k/m \\\\\n",
    "-k/m & k/m \\\\\n",
    "\\end{pmatrix}\n",
    "\\begin{pmatrix}x_1 \\\\ x_2\\end{pmatrix}\n",
    "$$\n",
    "\n",
    "To decouple the equations, we find the eigenvalues and eigenvectors."
   ]
  },
  {
   "cell_type": "code",
   "execution_count": 2,
   "metadata": {
    "collapsed": false
   },
   "outputs": [],
   "source": [
    "import numpy as np\n",
    "a = np.array([[1, -1], [-1, 1]])\n",
    "freq, vectors = np.linalg.eig(a)\n",
    "vectors = vectors.transpose()"
   ]
  },
  {
   "cell_type": "markdown",
   "metadata": {},
   "source": [
    "The frequencies of the two modes of vibration are (in multiples of $\\sqrt{k/m}$)"
   ]
  },
  {
   "cell_type": "code",
   "execution_count": 3,
   "metadata": {
    "collapsed": false
   },
   "outputs": [
    {
     "data": {
      "text/plain": [
       "array([ 2.,  0.])"
      ]
     },
     "execution_count": 3,
     "metadata": {},
     "output_type": "execute_result"
    }
   ],
   "source": [
    "freq"
   ]
  },
  {
   "cell_type": "markdown",
   "metadata": {},
   "source": [
    "The first mode is a vibrational mode were the masses vibrate against each other (moving in opposite directions). This can be seen from the eigenvector."
   ]
  },
  {
   "cell_type": "code",
   "execution_count": 4,
   "metadata": {
    "collapsed": false,
    "scrolled": true
   },
   "outputs": [
    {
     "data": {
      "text/plain": [
       "array([ 0.70710678, -0.70710678])"
      ]
     },
     "execution_count": 4,
     "metadata": {},
     "output_type": "execute_result"
    }
   ],
   "source": [
    "vectors[0]"
   ]
  },
  {
   "cell_type": "markdown",
   "metadata": {},
   "source": [
    "The second mode is a translation mode with zero frequency—both masses move in the same direction."
   ]
  },
  {
   "cell_type": "code",
   "execution_count": 5,
   "metadata": {
    "collapsed": false
   },
   "outputs": [
    {
     "data": {
      "text/plain": [
       "array([ 0.70710678,  0.70710678])"
      ]
     },
     "execution_count": 5,
     "metadata": {},
     "output_type": "execute_result"
    }
   ],
   "source": [
    "vectors[1]"
   ]
  },
  {
   "cell_type": "markdown",
   "metadata": {},
   "source": [
    "We can interactively illustrate the vibrational mode."
   ]
  },
  {
   "cell_type": "code",
   "execution_count": 6,
   "metadata": {
    "collapsed": false
   },
   "outputs": [
    {
     "data": {
      "text/plain": [
       "<function __main__.make_plot>"
      ]
     },
     "execution_count": 6,
     "metadata": {},
     "output_type": "execute_result"
    },
    {
     "data": {
      "image/png": "[encoded data removed]",
      "text/plain": [
       "<matplotlib.figure.Figure at 0x7fd049adc208>"
      ]
     },
     "metadata": {},
     "output_type": "display_data"
    }
   ],
   "source": [
    "import matplotlib.pyplot as plt\n",
    "%matplotlib inline\n",
    "from IPython.html import widgets\n",
    "\n",
    "def make_plot(t):\n",
    "    fig, ax = plt.subplots()\n",
    "    x,y = np.array([-1,1]), np.array([0,0])\n",
    "    plt.plot(x, y, 'k.')\n",
    "    plt.plot(x + 0.3 * vectors[0] * t, y, 'bo')\n",
    "    plt.xlim(-1.5,1.5)\n",
    "    plt.ylim(-1.5,1.5)\n",
    "\n",
    "widgets.interact(make_plot, t=(-1,1,0.1))"
   ]
  },
  {
   "cell_type": "markdown",
   "metadata": {},
   "source": [
    "# Finding the dynamical matrix with numerical derivatives\n",
    "We start from a function $V(x)$. If we want to calculate a derivative, \n",
    "we just use the difference formula but don't take the delta too small.\n",
    "Using $\\delta x = 10^{-6}$ is safe.\n",
    "$$\n",
    "F = -\\frac{dV(x)}{dx} \\approx\n",
    "\\frac{V(x+\\Delta x) - V(x-\\Delta x)}{2\\Delta x}\n",
    "$$\n",
    "Note that it is more accurate to do this symmetric difference formula\n",
    "than it would be to use the usual forward derivative from calculus class.\n",
    "\n",
    "It's easy to see this formula is just calculating the slope of the function using points near $x$."
   ]
  },
  {
   "cell_type": "code",
   "execution_count": 7,
   "metadata": {
    "collapsed": false
   },
   "outputs": [],
   "source": [
    "def V(x):\n",
    "    return 0.5 * x**2\n",
    "\n",
    "deltax = 1e-6\n",
    "\n",
    "def F_approx(x):\n",
    "    return ( V(x + deltax) - V(x - deltax) ) / (2 * deltax)"
   ]
  },
  {
   "cell_type": "code",
   "execution_count": 8,
   "metadata": {
    "collapsed": false
   },
   "outputs": [
    {
     "data": {
      "text/plain": [
       "[(-2.0, -2.0000000000575113),\n",
       " (-1.5, -1.4999999998766),\n",
       " (-1.0, -1.0000000000010001),\n",
       " (-0.5, -0.49999999999356115),\n",
       " (0.0, 0.0),\n",
       " (0.5, 0.49999999999356115),\n",
       " (1.0, 1.0000000000010001),\n",
       " (1.5, 1.4999999998766),\n",
       " (2.0, 2.0000000000575113)]"
      ]
     },
     "execution_count": 8,
     "metadata": {},
     "output_type": "execute_result"
    }
   ],
   "source": [
    "[(x, F_approx(x)) for x in np.linspace(-2,2,9)]"
   ]
  },
  {
   "cell_type": "markdown",
   "metadata": {},
   "source": [
    "Next, we can find the second derivative by using the difference formula twice.\n",
    "We find the nice expression,\n",
    "$$\n",
    "\\frac{d^2V}{dx^2} \\approx \\frac{V(x+\\Delta x) - 2V(x) + V(x-\\Delta x)}{(\\Delta x)^2}.\n",
    "$$\n",
    "\n",
    "This formula has the nice interpretation of comparing the value of $V(x)$ to\n",
    "the average of points on either side. If it is equal to the average, the line\n",
    "is straight and the second derivative is zero.\n",
    "If average of the outer values is larger than $V(x)$, then the ends curve upward,\n",
    "and the second derivative is positive.\n",
    "Likewise, if the average of the outer values is less than $V(x)$, then the ends curve downward,\n",
    "and the second derivative is negative."
   ]
  },
  {
   "cell_type": "code",
   "execution_count": 9,
   "metadata": {
    "collapsed": true
   },
   "outputs": [],
   "source": [
    "def dV2dx2_approx(x):\n",
    "    return ( V(x + deltax) - 2 * V(x) + V(x - deltax) ) / deltax**2"
   ]
  },
  {
   "cell_type": "code",
   "execution_count": 10,
   "metadata": {
    "collapsed": false
   },
   "outputs": [
    {
     "data": {
      "text/plain": [
       "[(-2.0, 1.0005329897921911),\n",
       " (-1.5, 0.99986685597741598),\n",
       " (-1.0, 0.99986685597741598),\n",
       " (-0.5, 1.0000333894311098),\n",
       " (0.0, 1.0),\n",
       " (0.5, 1.0000195116433019),\n",
       " (1.0, 0.99992236712864724),\n",
       " (1.5, 0.99986685597741598),\n",
       " (2.0, 1.0005329897921911)]"
      ]
     },
     "execution_count": 10,
     "metadata": {},
     "output_type": "execute_result"
    }
   ],
   "source": [
    "[(x, dV2dx2_approx(x)) for x in np.linspace(-2,2,9)]"
   ]
  },
  {
   "cell_type": "markdown",
   "metadata": {},
   "source": [
    "Now we can use these derivative formulas to calcuate the dynamical matrix \n",
    "for the two masses on one spring. Well use $k=1$ and $m=1$ for simplicity."
   ]
  },
  {
   "cell_type": "code",
   "execution_count": 11,
   "metadata": {
    "collapsed": true
   },
   "outputs": [],
   "source": [
    "def V2(x1, x2):\n",
    "    return 0.5 * (x1 - x2)**2"
   ]
  },
  {
   "cell_type": "code",
   "execution_count": 12,
   "metadata": {
    "collapsed": false
   },
   "outputs": [],
   "source": [
    "x1, x2 = -1, 1\n",
    "mat = np.array(\n",
    "[[(V2(x1+deltax, x2) - 2 * V2(x1,x2) + V2(x1-deltax, x2)) / deltax**2 ,\n",
    "  (V2(x1+deltax, x2+deltax) - V2(x1-deltax, x2+deltax) \n",
    "   - V2(x1+deltax, x2-deltax) + V2(x1+deltax, x2+deltax)) / (2*deltax)**2],\n",
    " [(V2(x1+deltax, x2+deltax) - V2(x1-deltax, x2+deltax) \n",
    "   - V2(x1+deltax, x2-deltax) + V2(x1+deltax, x2+deltax)) / (2*deltax)**2,\n",
    "  (V2(x1, x2+deltax) - 2 * V2(x1,x2) + V2(x1, x2-deltax)) / deltax**2 ]]\n",
    ")"
   ]
  },
  {
   "cell_type": "code",
   "execution_count": 13,
   "metadata": {
    "collapsed": false
   },
   "outputs": [
    {
     "data": {
      "text/plain": [
       "array([[ 1.0000889 , -0.99986686],\n",
       "       [-0.99986686,  1.0000889 ]])"
      ]
     },
     "execution_count": 13,
     "metadata": {},
     "output_type": "execute_result"
    }
   ],
   "source": [
    "mat"
   ]
  },
  {
   "cell_type": "code",
   "execution_count": 14,
   "metadata": {
    "collapsed": false
   },
   "outputs": [],
   "source": [
    "freq, vectors = np.linalg.eig(mat)\n",
    "vectors = vectors.transpose()"
   ]
  },
  {
   "cell_type": "code",
   "execution_count": 15,
   "metadata": {
    "collapsed": false
   },
   "outputs": [
    {
     "name": "stdout",
     "output_type": "stream",
     "text": [
      "freqency 1.99995575656 , eigenvector [ 0.70710678 -0.70710678]\n",
      "freqency 0.000222044604925 , eigenvector [ 0.70710678  0.70710678]\n"
     ]
    }
   ],
   "source": [
    "for f,v in zip(freq, vectors):\n",
    "    print(\"freqency\", f, \", eigenvector\", v)"
   ]
  },
  {
   "cell_type": "markdown",
   "metadata": {},
   "source": [
    "For practical calcuations, we have to automate this matrix construction for an arbitrary potential."
   ]
  },
  {
   "cell_type": "code",
   "execution_count": null,
   "metadata": {
    "collapsed": true
   },
   "outputs": [],
   "source": []
  }
 ],
 "metadata": {
  "kernelspec": {
   "display_name": "Python 3",
   "language": "python",
   "name": "python3"
  },
  "language_info": {
   "codemirror_mode": {
    "name": "ipython",
    "version": 3
   },
   "file_extension": ".py",
   "mimetype": "text/x-python",
   "name": "python",
   "nbconvert_exporter": "python",
   "pygments_lexer": "ipython3",
   "version": "3.4.3"
  }
 },
 "nbformat": 4,
 "nbformat_minor": 0
}
