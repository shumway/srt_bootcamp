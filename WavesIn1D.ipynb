{
 "cells": [
  {
   "cell_type": "markdown",
   "metadata": {},
   "source": [
    "$$\n",
    "\\frac{\\partial^2}{\\partial x^2}u(x,t)\n",
    "= \\frac{1}{v^2}\n",
    "\\frac{\\partial^2}{\\partial t^2}u(x,t)\n",
    "$$\n",
    "\n",
    "$$\n",
    "\\frac{1}{\\Delta x^2}\n",
    "(u_{i+1,j} - 2 u_{i,j} + u_{i,j})\n",
    "= \n",
    "\\frac{1}{v^2\\Delta t^2}\n",
    "(u_{i,j+1} - 2 u_{i,j} + u_{i,j-1})\n",
    "$$\n",
    "\n",
    "$$\n",
    "u_{i,j+1}\n",
    "= \n",
    "2 u_{i,j-1}\n",
    "- u_{i,j-1}\n",
    "+  \\left(\\frac{v\\Delta t}{\\Delta x}\\right)^2\n",
    "(u_{i+1,j} - 2 u_{i,j} + u_{i,j})\n",
    "$$"
   ]
  },
  {
   "cell_type": "code",
   "execution_count": 1,
   "metadata": {
    "collapsed": false
   },
   "outputs": [
    {
     "name": "stderr",
     "output_type": "stream",
     "text": [
      ":0: FutureWarning: IPython widgets are experimental and may change in the future.\n"
     ]
    }
   ],
   "source": [
    "import numpy as np\n",
    "import math\n",
    "import matplotlib.pyplot as plt\n",
    "import numba\n",
    "%matplotlib inline\n",
    "from IPython.html import widgets"
   ]
  },
  {
   "cell_type": "code",
   "execution_count": 2,
   "metadata": {
    "collapsed": true
   },
   "outputs": [],
   "source": [
    "N = 1024\n",
    "L = 10.0\n",
    "v = 1.0\n",
    "dx = L / N\n",
    "dt = dx / v"
   ]
  },
  {
   "cell_type": "code",
   "execution_count": 3,
   "metadata": {
    "collapsed": true
   },
   "outputs": [],
   "source": [
    "u1 = np.empty(N, np.float32)\n",
    "u2 = np.empty_like(u1)\n",
    "x = np.linspace(0, L, N)"
   ]
  },
  {
   "cell_type": "code",
   "execution_count": 4,
   "metadata": {
    "collapsed": false
   },
   "outputs": [],
   "source": [
    "# Pluck the string at point x0 with a gausian with width sigma\n",
    "x0, sigma = 3.57, 0.5\n",
    "u1[:] = np.exp(-(x-x0)**2/(2*sigma**2))\n",
    "u2[:] = u1"
   ]
  },
  {
   "cell_type": "code",
   "execution_count": 5,
   "metadata": {
    "collapsed": false
   },
   "outputs": [
    {
     "data": {
      "text/plain": [
       "[<matplotlib.lines.Line2D at 0x7fc92408def0>]"
      ]
     },
     "execution_count": 5,
     "metadata": {},
     "output_type": "execute_result"
    },
    {
     "data": {
      "image/png": "[encoded data removed]",
      "text/plain": [
       "<matplotlib.figure.Figure at 0x7fc92408deb8>"
      ]
     },
     "metadata": {},
     "output_type": "display_data"
    }
   ],
   "source": [
    "plt.plot(x, u1)\n",
    "plt.plot(x, u2)"
   ]
  },
  {
   "cell_type": "code",
   "execution_count": 6,
   "metadata": {
    "collapsed": false
   },
   "outputs": [],
   "source": [
    "@numba.jit(nopython=True)\n",
    "def propagate(nsteps, recinterval, u1, u2):\n",
    "    nrec = nsteps // recinterval + 1\n",
    "    tstore = np.empty(nrec)\n",
    "    ustore = np.empty((nrec, N), np.float32)\n",
    "    istore, t = 0, 0.0\n",
    "    # Store the initial snapsho\n",
    "    tstore[istore] = t\n",
    "    for i in range(N):\n",
    "        ustore[istore, i] = u1[i]\n",
    "    a = v * dt / dx\n",
    "    for istep in range(nsteps):\n",
    "        # Decide which is the old and new wavefunction array\n",
    "        if (istep % 2 == 0):\n",
    "            uold, unew = u1, u2\n",
    "        else:\n",
    "            uold, unew = u2, u1\n",
    "        # Update new wave function\n",
    "        for i in range(1, N - 1):\n",
    "            unew[i] = 2 * (1 - a) * uold[i] - unew[i] \\\n",
    "                    + a * (uold[i + 1] + uold[i - 1])\n",
    "        t = t + dt\n",
    "        # Store a snapshot every recinterval\n",
    "        if ((istep + 1) % recinterval == 0):\n",
    "            istore += 1\n",
    "            tstore[istore] = t\n",
    "            for i in range(N):\n",
    "                ustore[istore, i] = unew[i]\n",
    "    return tstore, ustore"
   ]
  },
  {
   "cell_type": "code",
   "execution_count": 7,
   "metadata": {
    "collapsed": false
   },
   "outputs": [],
   "source": [
    "NSTEPS, RECINT = 2000, 30\n",
    "tstore, ustore = propagate(NSTEPS, RECINT, u1, u2)"
   ]
  },
  {
   "cell_type": "code",
   "execution_count": 8,
   "metadata": {
    "collapsed": true
   },
   "outputs": [],
   "source": [
    "def plot_wave(t):\n",
    "    # First find the step\n",
    "    istep = np.where(tstore >= t)[0][0]\n",
    "    istep = min(istep, NSTEPS - 1)\n",
    "    plt.plot(x, ustore[istep,:])\n",
    "    plt.ylim(-1.2, 1.2)"
   ]
  },
  {
   "cell_type": "code",
   "execution_count": 9,
   "metadata": {
    "collapsed": false
   },
   "outputs": [
    {
     "data": {
      "image/png": "[encoded data removed]",
      "text/plain": [
       "<matplotlib.figure.Figure at 0x7fc90396ff28>"
      ]
     },
     "metadata": {},
     "output_type": "display_data"
    }
   ],
   "source": [
    "widgets.interact(plot_wave, t=widgets.FloatSliderWidget(min=0, max=tstore[-1], step=tstore[1], value=0));"
   ]
  }
 ],
 "metadata": {
  "kernelspec": {
   "display_name": "Python 3",
   "language": "python",
   "name": "python3"
  },
  "language_info": {
   "codemirror_mode": {
    "name": "ipython",
    "version": 3
   },
   "file_extension": ".py",
   "mimetype": "text/x-python",
   "name": "python",
   "nbconvert_exporter": "python",
   "pygments_lexer": "ipython3",
   "version": "3.4.3"
  }
 },
 "nbformat": 4,
 "nbformat_minor": 0
}
