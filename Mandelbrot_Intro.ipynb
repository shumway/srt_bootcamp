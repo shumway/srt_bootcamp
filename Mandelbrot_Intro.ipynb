{
 "cells": [
  {
   "cell_type": "markdown",
   "metadata": {},
   "source": [
    "# Introduction to the Mandelbrot Set"
   ]
  },
  {
   "cell_type": "markdown",
   "metadata": {},
   "source": [
    "## First, a boring example\n",
    "A sequence of numbers can be defined by a map. For example, consider the simple map\n",
    "$$f: x \\rightarrow x + 1.$$\n",
    "If we start from $x_0=0$, this generates the sequence\n",
    "$$0, 1, 2, 3, 4, 5, 6,\\ldots.$$\n",
    "Note that the sequence is unbounded; it diverges to positive infinity.\n",
    "\n",
    "Taking different values of the addened $+1$ for this example is not much more interesting. \n",
    "For example, the map\n",
    "$$f: x \\rightarrow x - 1.$$\n",
    "generates the unbounded sequence\n",
    "$$0, -1, -2, -3, -4, -5, -6,\\ldots,$$\n",
    "which diverges to negative infinity.\n",
    "\n",
    "It is pretty easy to see that any function $f(x) = x + c$ will not be any more interesting.\n",
    "All sequences will diverge to either positive or negative infinity (depending on the sign of $c$),\n",
    "while the case $c=0$ is the identity map, and generates the (extremely!) boring sequence\n",
    "$$0, 0, 0, 0, 0, 0, 0,\\ldots.$$"
   ]
  },
  {
   "cell_type": "markdown",
   "metadata": {},
   "source": [
    "## A much more interesting example\n",
    "\n",
    "Simply squaring the argument in the function makes in non-linear,\n",
    "$$f: x \\rightarrow x^2 + c,$$\n",
    "and things get much more interesting.\n",
    "For example, with $c=1$, we have the map\n",
    "$$f: x \\rightarrow x^2 + 1,$$\n",
    "which generates the sequence\n",
    "$$0, 1, 2, 5, 26, \\ldots,$$\n",
    "which diverges.\n",
    "\n",
    "Taking $c=-1$, the map is $f(x)=x^2-1$, which generates the sequence\n",
    "$$0, -1, 0, -1, 0, -1, \\ldots,$$\n",
    "which stays bounded.\n",
    "Now it is helpful to use python to evaluate these sequences."
   ]
  },
  {
   "cell_type": "code",
   "execution_count": 3,
   "metadata": {
    "collapsed": true
   },
   "outputs": [],
   "source": [
    "def f(x, c):\n",
    "    return x**2 + c"
   ]
  },
  {
   "cell_type": "code",
   "execution_count": 4,
   "metadata": {
    "collapsed": false
   },
   "outputs": [
    {
     "name": "stdout",
     "output_type": "stream",
     "text": [
      "0 0.0\n",
      "1 1.0\n",
      "2 2.0\n",
      "3 5.0\n",
      "4 26.0\n",
      "5 677.0\n",
      "6 458330.0\n",
      "7 210066388901.0\n",
      "8 4.4127887745906175e+22\n",
      "9 1.9472704769152963e+45\n"
     ]
    }
   ],
   "source": [
    "x = 0.0\n",
    "for i in range(10):\n",
    "    print(i, x)\n",
    "    x = f(x, 1)"
   ]
  },
  {
   "cell_type": "code",
   "execution_count": 5,
   "metadata": {
    "collapsed": false
   },
   "outputs": [
    {
     "name": "stdout",
     "output_type": "stream",
     "text": [
      "0 0.0\n",
      "1 -1.0\n",
      "2 0.0\n",
      "3 -1.0\n",
      "4 0.0\n",
      "5 -1.0\n",
      "6 0.0\n",
      "7 -1.0\n",
      "8 0.0\n",
      "9 -1.0\n"
     ]
    }
   ],
   "source": [
    "x = 0.0\n",
    "for i in range(10):\n",
    "    print(i, x)\n",
    "    x = f(x, -1)"
   ]
  },
  {
   "cell_type": "code",
   "execution_count": 6,
   "metadata": {
    "collapsed": false
   },
   "outputs": [
    {
     "name": "stdout",
     "output_type": "stream",
     "text": [
      "0 0.0\n",
      "1 0.1\n",
      "2 0.11000000000000001\n",
      "3 0.1121\n",
      "4 0.11256641\n",
      "5 0.1126711966602881\n",
      "6 0.11269479855686132\n",
      "7 0.11270011762177155\n",
      "8 0.11270131651196115\n",
      "9 0.11270158674352926\n"
     ]
    }
   ],
   "source": [
    "x = 0.0\n",
    "for i in range(10):\n",
    "    print(i, x)\n",
    "    x = f(x, 0.1)"
   ]
  },
  {
   "cell_type": "markdown",
   "metadata": {},
   "source": [
    "Interesting! To explore this more, lets make a function that generates the sequence itself.\n",
    "We'll supply two numbers: the value of the constant $c$ and the number of terms in the sequence."
   ]
  },
  {
   "cell_type": "code",
   "execution_count": 7,
   "metadata": {
    "collapsed": true
   },
   "outputs": [],
   "source": [
    "def make_sequence(c, n):\n",
    "    x = 0.0\n",
    "    sequence = [x]\n",
    "    for i in range(n):\n",
    "        x = f(x, c)\n",
    "        sequence.append(x)\n",
    "    return sequence"
   ]
  },
  {
   "cell_type": "code",
   "execution_count": 8,
   "metadata": {
    "collapsed": false
   },
   "outputs": [
    {
     "data": {
      "text/plain": [
       "[0.0,\n",
       " 1.0,\n",
       " 2.0,\n",
       " 5.0,\n",
       " 26.0,\n",
       " 677.0,\n",
       " 458330.0,\n",
       " 210066388901.0,\n",
       " 4.4127887745906175e+22,\n",
       " 1.9472704769152963e+45,\n",
       " 3.7918623102659254e+90]"
      ]
     },
     "execution_count": 8,
     "metadata": {},
     "output_type": "execute_result"
    }
   ],
   "source": [
    "make_sequence(1, 10)"
   ]
  },
  {
   "cell_type": "code",
   "execution_count": 9,
   "metadata": {
    "collapsed": false
   },
   "outputs": [
    {
     "data": {
      "text/plain": [
       "[0.0, -1.0, 0.0, -1.0, 0.0, -1.0, 0.0, -1.0, 0.0, -1.0, 0.0]"
      ]
     },
     "execution_count": 9,
     "metadata": {},
     "output_type": "execute_result"
    }
   ],
   "source": [
    "make_sequence(-1, 10)"
   ]
  },
  {
   "cell_type": "code",
   "execution_count": 10,
   "metadata": {
    "collapsed": false
   },
   "outputs": [
    {
     "data": {
      "text/plain": [
       "[0.0, -2.0, 2.0, 2.0, 2.0, 2.0, 2.0, 2.0, 2.0, 2.0, 2.0]"
      ]
     },
     "execution_count": 10,
     "metadata": {},
     "output_type": "execute_result"
    }
   ],
   "source": [
    "make_sequence(-2, 10)"
   ]
  },
  {
   "cell_type": "code",
   "execution_count": 11,
   "metadata": {
    "collapsed": false
   },
   "outputs": [
    {
     "data": {
      "text/plain": [
       "[0.0,\n",
       " -2.01,\n",
       " 2.030099999999999,\n",
       " 2.1113060099999963,\n",
       " 2.447613067862105,\n",
       " 3.9808097299693452,\n",
       " 13.836846106218612,\n",
       " 189.44831016717717,\n",
       " 35888.65222519896,\n",
       " 1287995356.5312781,\n",
       " 1.6589320384461343e+18]"
      ]
     },
     "execution_count": 11,
     "metadata": {},
     "output_type": "execute_result"
    }
   ],
   "source": [
    "make_sequence(-2.01, 10)"
   ]
  },
  {
   "cell_type": "code",
   "execution_count": 12,
   "metadata": {
    "collapsed": false
   },
   "outputs": [
    {
     "data": {
      "text/plain": [
       "[0.0,\n",
       " 0.25,\n",
       " 0.3125,\n",
       " 0.34765625,\n",
       " 0.3708648681640625,\n",
       " 0.38754075043834746,\n",
       " 0.4001878332503175,\n",
       " 0.4101503018815839,\n",
       " 0.4182232701335544,\n",
       " 0.42491070368120404,\n",
       " 0.430549106102856]"
      ]
     },
     "execution_count": 12,
     "metadata": {},
     "output_type": "execute_result"
    }
   ],
   "source": [
    "make_sequence(0.25, 10)"
   ]
  },
  {
   "cell_type": "markdown",
   "metadata": {},
   "source": [
    "From these simple numerical tests,\n",
    "it is possible that these sequences generated by $f: x \\rightarrow x^2 + c$ remain bounded for $c \\in [-2,0.5]$.\n",
    "In fact, that can be proved mathematically.\n",
    "\n",
    "What if we extend this idea to complex numbers, by taking a complex number $c$? \n",
    "What is the set of complex numbers $c$ for which $f: z \\rightarrow z^2 + c$ remains bounded?\n",
    "It turns out this is a surprisingly complex and beautiful two-dimensional shape \n",
    "that we call the Mandelbrot set.\n",
    "\n",
    "From Wikimedia Commons (public domain image):\n",
    "![Mandelbrot Image](http://upload.wikimedia.org/wikipedia/commons/5/56/Mandelset_hires.png)"
   ]
  },
  {
   "cell_type": "code",
   "execution_count": null,
   "metadata": {
    "collapsed": true
   },
   "outputs": [],
   "source": []
  }
 ],
 "metadata": {
  "kernelspec": {
   "display_name": "Python 3",
   "language": "python",
   "name": "python3"
  },
  "language_info": {
   "codemirror_mode": {
    "name": "ipython",
    "version": 3
   },
   "file_extension": ".py",
   "mimetype": "text/x-python",
   "name": "python",
   "nbconvert_exporter": "python",
   "pygments_lexer": "ipython3",
   "version": "3.4.3"
  }
 },
 "nbformat": 4,
 "nbformat_minor": 0
}
